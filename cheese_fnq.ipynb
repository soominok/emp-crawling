{
 "cells": [
  {
   "cell_type": "markdown",
   "metadata": {},
   "source": [
    "## 쿠팡 후기 게시판 크롤링"
   ]
  },
  {
   "cell_type": "code",
   "execution_count": 14,
   "metadata": {},
   "outputs": [
    {
     "name": "stdout",
     "output_type": "stream",
     "text": [
      "0/신선도 예상보다 신선해요\n",
      "1/신선도 예상보다 신선해요\n",
      "2/♧곰곰 슈레드 모짜렐라 치즈 주문하기♧\n",
      "에전에는 모짜렐라치즈 조그만한거 한번씩 사서 가끔 먹었었는데 집에서 이것저것 요리를 하고나서는 모짜렐라 치즈 큰거사서 잘 먹네요. 지난번에는 다른 제품 1kg 샀는데 다 먹고 곰곰으로 선택했어요. 곰곰 만두도 맛있고 곰곰 두부도 맛있고 곰곰제품은 가성비 짱이거든요! 모짜렐라 치즈도 기대됩니다.\n",
      "\n",
      "♧곰곰 슈레드 모짜렐라 치즈 1kg♧\n",
      "하루만에 똬악 곰곰 치즈가 왔어요~~~~ 포장봉지만 봐도 맛있어보이네요. 자연치즈! 유통기한은 11월까지입니다. 지퍼백형식의 포장이 아니라서 따로 소분포장해야 할 듯합니다. 1kg이면 양이 꽤 많기 때문에 소분 포장은 필수!\n",
      "금방 먹을 것은 작은 지퍼백에 넣어 냉장보관, 그리고 나머지는 비닐팩에 한번사용할만큼 묶어서 냉동실 보관입니다. 냉동실보관해도 요리 사용하는 것에는 전혀 문제가 없답니다. ㅎㅎ\n",
      "\n",
      "치즈를 보니 약간 노르스름합니다. 자연치즈 99.3 % 이구요, 독일실입니다. 치즈는 잘게잘게 사용하기 좋게 , 향도 좋아요. 어떤 치즈는 구리한 냄새가 나기도 하더라구요. 양도 많고 짱이네요!\n",
      "\n",
      "♧곰곰 슈레드 모짜렐라치즈 100배 활용하기♧\n",
      "\n",
      "1. 치즈오븐스파게티\n",
      "스파게티 자주 만들어 먹는데 이번에는 치즈넣어 치즈오븐스파게티로 만들어봤어요. 토마토 스파게티 만들어서 치즈 촤르르 뿌려서 오븐에 10분 돌렸더니 맛있는 치즈오븐스파게티 완성! 치즈가 쫄깃쫄깃 정말 맛있네요.♡\n",
      "\n",
      "2. 집에서 만드는 피자\n",
      "또띠아에 양파, 베이컨 등 집에 있는 재료 넣고 치즈 올려서 오븐에 구우면 맛있는 피자 완성!\n",
      "\n",
      "3. 떡볶이, 닭갈비, 피자빵 등 모짜렐라 치즈 넣어 맛있게 즐겨요!\n",
      "\n",
      "치즈 완전 만족이에요. 어디에 넣어도 쫄깃쫄깃 맛있는 치즈~~쭈욱 당겨지는 보는것도 맛있는 치즈♡ 다먹고 재구매의사 100000입니당\n",
      "3/주문상품 : 곰곰 슈레드 모짜렐라 피자치즈, 1kg\n",
      "\n",
      "\n",
      "주문시간 : 2020년 8월 15일 10:47 p.m.\n",
      "배송완료 : 2020년 8월 16일 5:08 a.m.\n",
      "유통기한 : 2020년 11월 2일 12:13 p.m.\n",
      "\n",
      "\n",
      "남자아이 둘 맘입니다. 우리 아이들이 치즈를 좋아하는데, 슬라이스치즈 100매짜리가 있어서 항상 줬는데 다 먹어서 한동안 주지않은지 꽤 됐어요. 스위트콘 옥수수도 좋아하는지라 갑자기 콘치즈가 생각이나서 콘치즈나 해줄까 생각으로 피자치즈를 검색하게 되었는데 곰곰제품이 다른 제품보다 저렴해서 봤더니 쿠팡 Only 상품인걸 알았어요.\n",
      "\n",
      "\n",
      "아마 자체적으로 관리? 제작?하는 상품이라 가격면에서 경제적인 가격으로 판매할 수 있나봐요. 코로나가 심각하게 다가왔을때 코멧 마스크를 몇 번 구입한 적도 있는데 그것도 쿠팡 자체 브랜드라 다른 브랜드의 마스크보다 훨~~~씬 저렴하게 구입했던 기억이 있어요. 마스크로 인해 쿠팡 자체 브랜드에 대한 인식이 높아졌기에 이 곰곰 슈레드 모짜렐라 피자치즈 제품도 믿고 결제했습니다.\n",
      "\n",
      "\n",
      "로켓프레시 상품이라 주문한지 6-7시간만에 배송이 됐어요. 신선함을 유지할 수 있도록 보냉포장과 아이스팩 2개와 함께 배송해주셨네요. 어제 아이스크림을 구입하고나서 배송을 기다릴때는 아이스크림이 녹을까 노심초사했는데 이번에 구입한 것들은 플레인 요거트랑 피자치즈여서 걱정이 덜했어요.\n",
      "\n",
      "\n",
      "1kg 용량이라 양도 넉넉해서 아이들에게 자주 해줄 수 있고, 스파게티도 자주 해서 먹는편인데 그때도 위에다 솔솔 뿌려서 우리 아이들에게 만들어줘야겠어요.\n"
     ]
    },
    {
     "ename": "KeyboardInterrupt",
     "evalue": "",
     "output_type": "error",
     "traceback": [
      "\u001b[1;31m---------------------------------------------------------------------------\u001b[0m",
      "\u001b[1;31mKeyboardInterrupt\u001b[0m                         Traceback (most recent call last)",
      "\u001b[1;32m<ipython-input-14-50fb69096dfd>\u001b[0m in \u001b[0;36m<module>\u001b[1;34m\u001b[0m\n\u001b[0;32m     26\u001b[0m                 \u001b[1;32mfor\u001b[0m  \u001b[0ml\u001b[0m \u001b[1;32min\u001b[0m \u001b[0mrange\u001b[0m\u001b[1;33m(\u001b[0m\u001b[0mlength\u001b[0m\u001b[1;33m)\u001b[0m\u001b[1;33m:\u001b[0m\u001b[1;33m\u001b[0m\u001b[1;33m\u001b[0m\u001b[0m\n\u001b[0;32m     27\u001b[0m                     \u001b[0ml\u001b[0m\u001b[1;33m=\u001b[0m\u001b[0ml\u001b[0m\u001b[1;33m+\u001b[0m\u001b[1;36m1\u001b[0m\u001b[1;33m\u001b[0m\u001b[1;33m\u001b[0m\u001b[0m\n\u001b[1;32m---> 28\u001b[1;33m                     \u001b[0mtime\u001b[0m\u001b[1;33m.\u001b[0m\u001b[0msleep\u001b[0m\u001b[1;33m(\u001b[0m\u001b[1;36m1\u001b[0m\u001b[1;33m)\u001b[0m\u001b[1;33m\u001b[0m\u001b[1;33m\u001b[0m\u001b[0m\n\u001b[0m\u001b[0;32m     29\u001b[0m                     \u001b[0marray\u001b[0m\u001b[1;33m.\u001b[0m\u001b[0mappend\u001b[0m\u001b[1;33m(\u001b[0m\u001b[0mdriver\u001b[0m\u001b[1;33m.\u001b[0m\u001b[0mfind_element_by_xpath\u001b[0m\u001b[1;33m(\u001b[0m\u001b[1;34m'//*[@id=\"btfTab\"]/ul[2]/li[2]/div/div[5]/section[4]/article['\u001b[0m\u001b[1;33m+\u001b[0m\u001b[0mstr\u001b[0m\u001b[1;33m(\u001b[0m\u001b[0ml\u001b[0m\u001b[1;33m)\u001b[0m\u001b[1;33m+\u001b[0m\u001b[1;34m']/div[4]/div'\u001b[0m\u001b[1;33m)\u001b[0m\u001b[1;33m.\u001b[0m\u001b[0mtext\u001b[0m\u001b[1;33m)\u001b[0m\u001b[1;33m\u001b[0m\u001b[1;33m\u001b[0m\u001b[0m\n\u001b[0;32m     30\u001b[0m                     \u001b[0mprint\u001b[0m\u001b[1;33m(\u001b[0m\u001b[0mstr\u001b[0m\u001b[1;33m(\u001b[0m\u001b[0mindex\u001b[0m\u001b[1;33m)\u001b[0m\u001b[1;33m+\u001b[0m\u001b[1;34m'/'\u001b[0m\u001b[1;33m+\u001b[0m\u001b[0marray\u001b[0m\u001b[1;33m[\u001b[0m\u001b[0mindex\u001b[0m\u001b[1;33m]\u001b[0m\u001b[1;33m)\u001b[0m\u001b[1;33m\u001b[0m\u001b[1;33m\u001b[0m\u001b[0m\n",
      "\u001b[1;31mKeyboardInterrupt\u001b[0m: "
     ]
    }
   ],
   "source": [
    "import time\n",
    "from selenium import webdriver\n",
    "driver = webdriver.Chrome('c:/ChromeDriver/chromedriver.exe')\n",
    "driver.implicitly_wait(3)\n",
    "\n",
    "# url에 접근한다.\n",
    "driver.get('https://www.coupang.com/np/search?q=%EC%B9%98%EC%A6%88&brand=&offerCondition=&filter=&availableDeliveryFilter=&filterType=&isPriceRange=false&priceRange=&minPrice=&maxPrice=&page=1&trcid=&traid=&filterSetByUser=true&channel=user&backgroundColor=&component=&rating=0&sorter=saleCountDesc&listSize=36')\n",
    "driver.switch_to.window(driver.window_handles[-1])\n",
    "array = []\n",
    "index = 0\n",
    "while (1==1):\n",
    "    list=len(driver.find_elements_by_xpath('//*[@id=\"productList\"]/li'))\n",
    "    for i in range(list):\n",
    "        i=i+1\n",
    "        driver.find_element_by_xpath('//*[@id=\"productList\"]/li['+str(i)+']/a').click()\n",
    "        driver.switch_to.window(driver.window_handles[1])\n",
    "        driver.find_element_by_xpath('//*[@id=\"btfTab\"]/ul[1]/li[2]').click()\n",
    "        while(len(driver.find_elements_by_xpath('//*[@id=\"btfTab\"]/ul[1]/li'))>0):\n",
    "            #페이지길이\n",
    "            page = len(driver.find_elements_by_xpath('//*[@id=\"btfTab\"]/ul[2]/li[2]/div/div[5]/section[4]/div[3]/button'))\n",
    "            for p in range(page):\n",
    "                if(p==1 or p==0):\n",
    "                    continue;\n",
    "                driver.find_element_by_xpath('//*[@id=\"btfTab\"]/ul[2]/li[2]/div/div[5]/section[4]/div[3]/button['+str(p)+']').click()\n",
    "                length = len(driver.find_elements_by_xpath('//*[@id=\"btfTab\"]/ul[2]/li[2]/div/div[5]/section[4]/article'))\n",
    "                for  l in range(length):\n",
    "                    l=l+1\n",
    "                    time.sleep(1)\n",
    "                    array.append(driver.find_element_by_xpath('//*[@id=\"btfTab\"]/ul[2]/li[2]/div/div[5]/section[4]/article['+str(l)+']/div[4]/div').text)\n",
    "                    print(str(index)+'/'+array[index])\n",
    "                    index = index+1\n",
    "        driver.close()\n",
    "        driver.switch_to.window(driver.window_handles[-1])"
   ]
  },
  {
   "cell_type": "markdown",
   "metadata": {},
   "source": []
  },
  {
   "cell_type": "code",
   "execution_count": null,
   "metadata": {},
   "outputs": [],
   "source": [
    "from selenium import webdriver\n",
    "from selenium.webdriver.common.keys import Keys\n",
    "import time\n",
    "\n",
    "# 크롤링 url, html 받아오기\n",
    "url = \"http://itempage3.auction.co.kr/DetailView.aspx?ItemNo=A526066300&frm3=V2\"\n",
    "driver = webdriver.Chrome(\"c:/ChromeDriver/chromedriver.exe\")\n",
    "driver.implicitly_wait(5)\n",
    "driver.get(url)\n",
    "\n",
    "pages = driver.find_elements_by_class_name('paging')\n",
    "print('pages len: ', len(pages))\n",
    "pageNum = 1\n",
    "itemNum = 1\n",
    "\n",
    "body = driver.find_element_by_css_selector('body')\n",
    "\n",
    "for page in pages:\n",
    "    page.click()\n",
    "    print('--------------------------------------------------------------')\n",
    "    print('page', pageNum)\n",
    "    print('--------------------------------------------------------------')\n",
    "    pageNum += 1\n",
    "    time.sleep(3)\n",
    "    \n",
    "\n",
    "    items = driver.find_elements_by_class_name('item')\n",
    "    for item in items:\n",
    "        title = item.find_element_by_class_name('name').text\n",
    "        price = item.find_element_by_class_name('price').text\n",
    "        info = item.find_element_by_class_name('desc').text\n",
    "        src = item.find_element_by_css_selector('a.img>img').get_attribute('src')\n",
    "        \n",
    "        print(title)\n",
    "        print(price)\n",
    "        print(info)\n",
    "        print(src)\n",
    "        \n",
    "        itemNum += 1\n",
    "        \n",
    "print('--------------------------------------------------------------')\n",
    "print('item count:', itemNum)\n",
    "        \n",
    "driver.quit()"
   ]
  },
  {
   "cell_type": "code",
   "execution_count": 10,
   "metadata": {},
   "outputs": [
    {
     "name": "stdout",
     "output_type": "stream",
     "text": [
      "pages len:  0\n"
     ]
    },
    {
     "ename": "NoSuchElementException",
     "evalue": "Message: no such element: Unable to locate element: {\"method\":\"link text\",\"selector\":\"TabNaviButton.openItemQnA\"}\n  (Session info: chrome=86.0.4240.75)\n",
     "output_type": "error",
     "traceback": [
      "\u001b[1;31m---------------------------------------------------------------------------\u001b[0m",
      "\u001b[1;31mNoSuchElementException\u001b[0m                    Traceback (most recent call last)",
      "\u001b[1;32m<ipython-input-10-4bf3e4d6b200>\u001b[0m in \u001b[0;36m<module>\u001b[1;34m\u001b[0m\n\u001b[0;32m     16\u001b[0m \u001b[1;31m#menu = driver.find_element_by_css_select('a')\u001b[0m\u001b[1;33m\u001b[0m\u001b[1;33m\u001b[0m\u001b[1;33m\u001b[0m\u001b[0m\n\u001b[0;32m     17\u001b[0m \u001b[1;31m#driver.execute_script(\"arguments[2].click();\", menu)\u001b[0m\u001b[1;33m\u001b[0m\u001b[1;33m\u001b[0m\u001b[1;33m\u001b[0m\u001b[0m\n\u001b[1;32m---> 18\u001b[1;33m \u001b[0mmenu\u001b[0m \u001b[1;33m=\u001b[0m \u001b[0mdriver\u001b[0m\u001b[1;33m.\u001b[0m\u001b[0mfind_element_by_link_text\u001b[0m\u001b[1;33m(\u001b[0m\u001b[1;34m\"TabNaviButton.openItemQnA\"\u001b[0m\u001b[1;33m)\u001b[0m\u001b[1;33m.\u001b[0m\u001b[0mclick\u001b[0m\u001b[1;33m(\u001b[0m\u001b[1;33m)\u001b[0m\u001b[1;33m\u001b[0m\u001b[1;33m\u001b[0m\u001b[0m\n\u001b[0m",
      "\u001b[1;32mC:\\ProgramData\\Anaconda3\\lib\\site-packages\\selenium\\webdriver\\remote\\webdriver.py\u001b[0m in \u001b[0;36mfind_element_by_link_text\u001b[1;34m(self, link_text)\u001b[0m\n\u001b[0;32m    426\u001b[0m             \u001b[0melement\u001b[0m \u001b[1;33m=\u001b[0m \u001b[0mdriver\u001b[0m\u001b[1;33m.\u001b[0m\u001b[0mfind_element_by_link_text\u001b[0m\u001b[1;33m(\u001b[0m\u001b[1;34m'Sign In'\u001b[0m\u001b[1;33m)\u001b[0m\u001b[1;33m\u001b[0m\u001b[1;33m\u001b[0m\u001b[0m\n\u001b[0;32m    427\u001b[0m         \"\"\"\n\u001b[1;32m--> 428\u001b[1;33m         \u001b[1;32mreturn\u001b[0m \u001b[0mself\u001b[0m\u001b[1;33m.\u001b[0m\u001b[0mfind_element\u001b[0m\u001b[1;33m(\u001b[0m\u001b[0mby\u001b[0m\u001b[1;33m=\u001b[0m\u001b[0mBy\u001b[0m\u001b[1;33m.\u001b[0m\u001b[0mLINK_TEXT\u001b[0m\u001b[1;33m,\u001b[0m \u001b[0mvalue\u001b[0m\u001b[1;33m=\u001b[0m\u001b[0mlink_text\u001b[0m\u001b[1;33m)\u001b[0m\u001b[1;33m\u001b[0m\u001b[1;33m\u001b[0m\u001b[0m\n\u001b[0m\u001b[0;32m    429\u001b[0m \u001b[1;33m\u001b[0m\u001b[0m\n\u001b[0;32m    430\u001b[0m     \u001b[1;32mdef\u001b[0m \u001b[0mfind_elements_by_link_text\u001b[0m\u001b[1;33m(\u001b[0m\u001b[0mself\u001b[0m\u001b[1;33m,\u001b[0m \u001b[0mtext\u001b[0m\u001b[1;33m)\u001b[0m\u001b[1;33m:\u001b[0m\u001b[1;33m\u001b[0m\u001b[1;33m\u001b[0m\u001b[0m\n",
      "\u001b[1;32mC:\\ProgramData\\Anaconda3\\lib\\site-packages\\selenium\\webdriver\\remote\\webdriver.py\u001b[0m in \u001b[0;36mfind_element\u001b[1;34m(self, by, value)\u001b[0m\n\u001b[0;32m    974\u001b[0m                 \u001b[0mby\u001b[0m \u001b[1;33m=\u001b[0m \u001b[0mBy\u001b[0m\u001b[1;33m.\u001b[0m\u001b[0mCSS_SELECTOR\u001b[0m\u001b[1;33m\u001b[0m\u001b[1;33m\u001b[0m\u001b[0m\n\u001b[0;32m    975\u001b[0m                 \u001b[0mvalue\u001b[0m \u001b[1;33m=\u001b[0m \u001b[1;34m'[name=\"%s\"]'\u001b[0m \u001b[1;33m%\u001b[0m \u001b[0mvalue\u001b[0m\u001b[1;33m\u001b[0m\u001b[1;33m\u001b[0m\u001b[0m\n\u001b[1;32m--> 976\u001b[1;33m         return self.execute(Command.FIND_ELEMENT, {\n\u001b[0m\u001b[0;32m    977\u001b[0m             \u001b[1;34m'using'\u001b[0m\u001b[1;33m:\u001b[0m \u001b[0mby\u001b[0m\u001b[1;33m,\u001b[0m\u001b[1;33m\u001b[0m\u001b[1;33m\u001b[0m\u001b[0m\n\u001b[0;32m    978\u001b[0m             'value': value})['value']\n",
      "\u001b[1;32mC:\\ProgramData\\Anaconda3\\lib\\site-packages\\selenium\\webdriver\\remote\\webdriver.py\u001b[0m in \u001b[0;36mexecute\u001b[1;34m(self, driver_command, params)\u001b[0m\n\u001b[0;32m    319\u001b[0m         \u001b[0mresponse\u001b[0m \u001b[1;33m=\u001b[0m \u001b[0mself\u001b[0m\u001b[1;33m.\u001b[0m\u001b[0mcommand_executor\u001b[0m\u001b[1;33m.\u001b[0m\u001b[0mexecute\u001b[0m\u001b[1;33m(\u001b[0m\u001b[0mdriver_command\u001b[0m\u001b[1;33m,\u001b[0m \u001b[0mparams\u001b[0m\u001b[1;33m)\u001b[0m\u001b[1;33m\u001b[0m\u001b[1;33m\u001b[0m\u001b[0m\n\u001b[0;32m    320\u001b[0m         \u001b[1;32mif\u001b[0m \u001b[0mresponse\u001b[0m\u001b[1;33m:\u001b[0m\u001b[1;33m\u001b[0m\u001b[1;33m\u001b[0m\u001b[0m\n\u001b[1;32m--> 321\u001b[1;33m             \u001b[0mself\u001b[0m\u001b[1;33m.\u001b[0m\u001b[0merror_handler\u001b[0m\u001b[1;33m.\u001b[0m\u001b[0mcheck_response\u001b[0m\u001b[1;33m(\u001b[0m\u001b[0mresponse\u001b[0m\u001b[1;33m)\u001b[0m\u001b[1;33m\u001b[0m\u001b[1;33m\u001b[0m\u001b[0m\n\u001b[0m\u001b[0;32m    322\u001b[0m             response['value'] = self._unwrap_value(\n\u001b[0;32m    323\u001b[0m                 response.get('value', None))\n",
      "\u001b[1;32mC:\\ProgramData\\Anaconda3\\lib\\site-packages\\selenium\\webdriver\\remote\\errorhandler.py\u001b[0m in \u001b[0;36mcheck_response\u001b[1;34m(self, response)\u001b[0m\n\u001b[0;32m    240\u001b[0m                 \u001b[0malert_text\u001b[0m \u001b[1;33m=\u001b[0m \u001b[0mvalue\u001b[0m\u001b[1;33m[\u001b[0m\u001b[1;34m'alert'\u001b[0m\u001b[1;33m]\u001b[0m\u001b[1;33m.\u001b[0m\u001b[0mget\u001b[0m\u001b[1;33m(\u001b[0m\u001b[1;34m'text'\u001b[0m\u001b[1;33m)\u001b[0m\u001b[1;33m\u001b[0m\u001b[1;33m\u001b[0m\u001b[0m\n\u001b[0;32m    241\u001b[0m             \u001b[1;32mraise\u001b[0m \u001b[0mexception_class\u001b[0m\u001b[1;33m(\u001b[0m\u001b[0mmessage\u001b[0m\u001b[1;33m,\u001b[0m \u001b[0mscreen\u001b[0m\u001b[1;33m,\u001b[0m \u001b[0mstacktrace\u001b[0m\u001b[1;33m,\u001b[0m \u001b[0malert_text\u001b[0m\u001b[1;33m)\u001b[0m\u001b[1;33m\u001b[0m\u001b[1;33m\u001b[0m\u001b[0m\n\u001b[1;32m--> 242\u001b[1;33m         \u001b[1;32mraise\u001b[0m \u001b[0mexception_class\u001b[0m\u001b[1;33m(\u001b[0m\u001b[0mmessage\u001b[0m\u001b[1;33m,\u001b[0m \u001b[0mscreen\u001b[0m\u001b[1;33m,\u001b[0m \u001b[0mstacktrace\u001b[0m\u001b[1;33m)\u001b[0m\u001b[1;33m\u001b[0m\u001b[1;33m\u001b[0m\u001b[0m\n\u001b[0m\u001b[0;32m    243\u001b[0m \u001b[1;33m\u001b[0m\u001b[0m\n\u001b[0;32m    244\u001b[0m     \u001b[1;32mdef\u001b[0m \u001b[0m_value_or_default\u001b[0m\u001b[1;33m(\u001b[0m\u001b[0mself\u001b[0m\u001b[1;33m,\u001b[0m \u001b[0mobj\u001b[0m\u001b[1;33m,\u001b[0m \u001b[0mkey\u001b[0m\u001b[1;33m,\u001b[0m \u001b[0mdefault\u001b[0m\u001b[1;33m)\u001b[0m\u001b[1;33m:\u001b[0m\u001b[1;33m\u001b[0m\u001b[1;33m\u001b[0m\u001b[0m\n",
      "\u001b[1;31mNoSuchElementException\u001b[0m: Message: no such element: Unable to locate element: {\"method\":\"link text\",\"selector\":\"TabNaviButton.openItemQnA\"}\n  (Session info: chrome=86.0.4240.75)\n"
     ]
    }
   ],
   "source": [
    "from selenium import webdriver\n",
    "from selenium.webdriver.common.keys import Keys\n",
    "import time\n",
    "\n",
    "# 크롤링 url, html 받아오기\n",
    "url = \"http://itempage3.auction.co.kr/DetailView.aspx?ItemNo=A526066300&frm3=V2\"\n",
    "driver = webdriver.Chrome(\"c:/ChromeDriver/chromedriver.exe\")\n",
    "driver.implicitly_wait(5)\n",
    "driver.get(url)\n",
    "\n",
    "pages = driver.find_elements_by_class_name('paging')\n",
    "print('pages len: ', len(pages))\n",
    "pageNum = 1\n",
    "itemNum = 1\n",
    "\n",
    "#menu = driver.find_element_by_css_select('a')\n",
    "#driver.execute_script(\"arguments[2].click();\", menu)\n",
    "menu = driver.find_element_by_link_text(\"TabNaviButton.openItemQnA\").click()"
   ]
  },
  {
   "cell_type": "code",
   "execution_count": 13,
   "metadata": {},
   "outputs": [],
   "source": [
    "import time\n",
    "from selenium import webdriver\n",
    "driver = webdriver.Chrome('c:/ChromeDriver/chromedriver.exe')\n",
    "driver.implicitly_wait(3)\n",
    "\n",
    "# url에 접근한다.\n",
    "driver.get('https://www.coupang.com/np/categories/195824')\n",
    "driver.switch_to.window(driver.window_handles[-1])\n",
    "\n",
    "array = []\n",
    "index = 0\n",
    "while (1==1):\n",
    "    list=len(driver.find_elements_by_xpath('//*[@id=\"productList\"]/li'))\n",
    "    for i in range(list):\n",
    "        i=i+1\n",
    "        driver.find_element_by_xpath('//*[@id=\"productList\"]/li['+str(i)+']/a').click()\n",
    "        driver.switch_to.window(driver.window_handles[1])\n",
    "        driver.find_element_by_xpath('//*[@id=\"btfTab\"]/ul[1]/li[3]').click()\n",
    "        while(len(driver.find_elements_by_xpath('//*[@id=\"btfTab\"]/ul[1]/li'))>0):\n",
    "            driver.find_element_by_xpath('//*[@id=\"prod-inquiry-list\"]/div/div[4]/div[2]/button').click()\n",
    "            \n",
    "            #페이지길이\n",
    "            page = len(driver.find_elements_by_xpath('//*[@id=\"prod-inquiry-list\"]/div/div[4]/div[2]/button'))\n",
    "            for p in range(page):\n",
    "                if(p==1 or p==0):\n",
    "                    continue;\n",
    "                    driver.find_element_by_xpath('//*[@id=\"btfTab\"]/ul[2]/li[2]/div/div[5]/section[4]/div[3]/button['+str(p)+']').click()\n",
    "                length = len(driver.find_elements_by_xpath('//*[@id=\"btfTab\"]/ul[2]/li[2]/div/div[5]/section[4]/article'))\n",
    "                for  l in range(length):\n",
    "                    l=l+1\n",
    "                    time.sleep(1)\n",
    "                    array.append(driver.find_element_by_xpath('//*[@id=\"btfTab\"]/ul[2]/li[2]/div/div[5]/section[4]/article['+str(l)+']/div[4]/div').text)\n",
    "                    print(str(index)+'/'+array[index])\n",
    "                    index = index+1\n",
    "        driver.close()\n",
    "        driver.switch_to.window(driver.window_handles[-1])"
   ]
  },
  {
   "cell_type": "code",
   "execution_count": null,
   "metadata": {},
   "outputs": [],
   "source": []
  }
 ],
 "metadata": {
  "kernelspec": {
   "display_name": "Python 3",
   "language": "python",
   "name": "python3"
  },
  "language_info": {
   "codemirror_mode": {
    "name": "ipython",
    "version": 3
   },
   "file_extension": ".py",
   "mimetype": "text/x-python",
   "name": "python",
   "nbconvert_exporter": "python",
   "pygments_lexer": "ipython3",
   "version": "3.8.3"
  }
 },
 "nbformat": 4,
 "nbformat_minor": 4
}

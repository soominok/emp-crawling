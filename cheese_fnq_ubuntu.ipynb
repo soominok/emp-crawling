{
 "cells": [
  {
   "cell_type": "markdown",
   "metadata": {},
   "source": [
    "## 치즈 후기 게시판 크롤링"
   ]
  },
  {
   "cell_type": "code",
   "execution_count": 21,
   "metadata": {},
   "outputs": [
    {
     "ename": "IndexError",
     "evalue": "list index out of range",
     "output_type": "error",
     "traceback": [
      "\u001b[0;31m---------------------------------------------------------------------------\u001b[0m",
      "\u001b[0;31mIndexError\u001b[0m                                Traceback (most recent call last)",
      "\u001b[0;32m<ipython-input-21-7b3beabee47e>\u001b[0m in \u001b[0;36m<module>\u001b[0;34m\u001b[0m\n\u001b[1;32m     15\u001b[0m         \u001b[0mi\u001b[0m\u001b[0;34m=\u001b[0m\u001b[0mi\u001b[0m\u001b[0;34m+\u001b[0m\u001b[0;36m1\u001b[0m\u001b[0;34m\u001b[0m\u001b[0;34m\u001b[0m\u001b[0m\n\u001b[1;32m     16\u001b[0m         \u001b[0mdriver\u001b[0m\u001b[0;34m.\u001b[0m\u001b[0mfind_element_by_xpath\u001b[0m\u001b[0;34m(\u001b[0m\u001b[0;34m'//*[@id=\"productList\"]/li['\u001b[0m\u001b[0;34m+\u001b[0m\u001b[0mstr\u001b[0m\u001b[0;34m(\u001b[0m\u001b[0mi\u001b[0m\u001b[0;34m)\u001b[0m\u001b[0;34m+\u001b[0m\u001b[0;34m']/a'\u001b[0m\u001b[0;34m)\u001b[0m\u001b[0;34m.\u001b[0m\u001b[0mclick\u001b[0m\u001b[0;34m(\u001b[0m\u001b[0;34m)\u001b[0m\u001b[0;34m\u001b[0m\u001b[0;34m\u001b[0m\u001b[0m\n\u001b[0;32m---> 17\u001b[0;31m         \u001b[0mdriver\u001b[0m\u001b[0;34m.\u001b[0m\u001b[0mswitch_to\u001b[0m\u001b[0;34m.\u001b[0m\u001b[0mwindow\u001b[0m\u001b[0;34m(\u001b[0m\u001b[0mdriver\u001b[0m\u001b[0;34m.\u001b[0m\u001b[0mwindow_handles\u001b[0m\u001b[0;34m[\u001b[0m\u001b[0;36m1\u001b[0m\u001b[0;34m]\u001b[0m\u001b[0;34m)\u001b[0m\u001b[0;34m\u001b[0m\u001b[0;34m\u001b[0m\u001b[0m\n\u001b[0m\u001b[1;32m     18\u001b[0m         \u001b[0mdriver\u001b[0m\u001b[0;34m.\u001b[0m\u001b[0mfind_element_by_xpath\u001b[0m\u001b[0;34m(\u001b[0m\u001b[0;34m'//*[@id=\"btfTab\"]/ul[1]/li[2]'\u001b[0m\u001b[0;34m)\u001b[0m\u001b[0;34m.\u001b[0m\u001b[0mclick\u001b[0m\u001b[0;34m(\u001b[0m\u001b[0;34m)\u001b[0m\u001b[0;34m\u001b[0m\u001b[0;34m\u001b[0m\u001b[0m\n\u001b[1;32m     19\u001b[0m         \u001b[0;32mwhile\u001b[0m\u001b[0;34m(\u001b[0m\u001b[0mlen\u001b[0m\u001b[0;34m(\u001b[0m\u001b[0mdriver\u001b[0m\u001b[0;34m.\u001b[0m\u001b[0mfind_elements_by_xpath\u001b[0m\u001b[0;34m(\u001b[0m\u001b[0;34m'//*[@id=\"btfTab\"]/ul[1]/li'\u001b[0m\u001b[0;34m)\u001b[0m\u001b[0;34m)\u001b[0m\u001b[0;34m>\u001b[0m\u001b[0;36m0\u001b[0m\u001b[0;34m)\u001b[0m\u001b[0;34m:\u001b[0m\u001b[0;34m\u001b[0m\u001b[0;34m\u001b[0m\u001b[0m\n",
      "\u001b[0;31mIndexError\u001b[0m: list index out of range"
     ]
    }
   ],
   "source": [
    "import time\n",
    "from selenium import webdriver\n",
    "driver = webdriver.Chrome('/usr/bin/chromedriver')\n",
    "driver.implicitly_wait(3)\n",
    "\n",
    "# url에 접근한다.\n",
    "driver.get('https://www.coupang.com/np/search?q=%EC%B9%98%EC%A6%88&brand=&offerCondition=&filter=&availableDeliveryFilter=&filterType=&isPriceRange=false&priceRange=&minPrice=&maxPrice=&page=1&trcid=&traid=&filterSetByUser=true&channel=user&backgroundColor=&component=&rating=0&sorter=saleCountDesc&listSize=36')\n",
    "driver.switch_to.window(driver.window_handles[-1])\n",
    "array = []\n",
    "index = 0\n",
    "while (1==1):\n",
    "    list=len(driver.find_elements_by_xpath('//*[@id=\"productList\"]/li'))\n",
    "    for i in range(list):\n",
    "        i=i+1\n",
    "        driver.find_element_by_xpath('//*[@id=\"productList\"]/li['+str(i)+']/a').click()\n",
    "        driver.switch_to.window(driver.window_handles[1])\n",
    "        driver.find_element_by_xpath('//*[@id=\"btfTab\"]/ul[1]/li[2]').click()\n",
    "        while(len(driver.find_elements_by_xpath('//*[@id=\"btfTab\"]/ul[1]/li'))>0):\n",
    "            #페이지길이\n",
    "            page = len(driver.find_elements_by_xpath('//*[@id=\"btfTab\"]/ul[2]/li[2]/div/div[5]/section[4]/div[3]/button'))\n",
    "            for p in range(page):\n",
    "                if(p==1 or p==0):\n",
    "                    continue;\n",
    "                driver.find_element_by_xpath('//*[@id=\"btfTab\"]/ul[2]/li[2]/div/div[5]/section[4]/div[3]/button['+str(p)+']').click()\n",
    "                length = len(driver.find_elements_by_xpath('//*[@id=\"btfTab\"]/ul[2]/li[2]/div/div[5]/section[4]/article'))\n",
    "                for  l in range(length):\n",
    "                    l=l+1\n",
    "                    time.sleep(1)\n",
    "                    array.append(driver.find_element_by_xpath('//*[@id=\"btfTab\"]/ul[2]/li[2]/div/div[5]/section[4]/article['+str(l)+']/div[4]/div').text)\n",
    "                    print(str(index)+'/'+array[index])\n",
    "                    index = index+1\n",
    "        driver.close()\n",
    "        driver.switch_to.window(driver.window_handles[-1])"
   ]
  },
  {
   "cell_type": "markdown",
   "metadata": {},
   "source": [
    "## 치즈 문의 게시판 크롤링"
   ]
  },
  {
   "cell_type": "markdown",
   "metadata": {},
   "source": [
    "### (1) 쿠팡"
   ]
  },
  {
   "cell_type": "code",
   "execution_count": 61,
   "metadata": {},
   "outputs": [
    {
     "ename": "NoSuchElementException",
     "evalue": "Message: no such element: Unable to locate element: {\"method\":\"xpath\",\"selector\":\"//*[@id=\"prod-inquiry-list\"]/div/div[4]/div[1]/div[1]/div[1]/div[2]\"}\n  (Session info: chrome=85.0.4183.83)\n",
     "output_type": "error",
     "traceback": [
      "\u001b[0;31m---------------------------------------------------------------------------\u001b[0m",
      "\u001b[0;31mNoSuchElementException\u001b[0m                    Traceback (most recent call last)",
      "\u001b[0;32m<ipython-input-61-a63f8fb4268d>\u001b[0m in \u001b[0;36m<module>\u001b[0;34m\u001b[0m\n\u001b[1;32m     22\u001b[0m         \u001b[0mdict\u001b[0m \u001b[0;34m=\u001b[0m \u001b[0;34m{\u001b[0m\u001b[0;34m}\u001b[0m\u001b[0;34m\u001b[0m\u001b[0;34m\u001b[0m\u001b[0m\n\u001b[1;32m     23\u001b[0m         \u001b[0;31m#d['LinkSrc'] = item.find('a')['href']\u001b[0m\u001b[0;34m\u001b[0m\u001b[0;34m\u001b[0m\u001b[0;34m\u001b[0m\u001b[0m\n\u001b[0;32m---> 24\u001b[0;31m         \u001b[0mdict\u001b[0m\u001b[0;34m[\u001b[0m\u001b[0;34m'question'\u001b[0m\u001b[0;34m]\u001b[0m \u001b[0;34m=\u001b[0m \u001b[0mdriver\u001b[0m\u001b[0;34m.\u001b[0m\u001b[0mfind_element_by_xpath\u001b[0m\u001b[0;34m(\u001b[0m\u001b[0;34m'//*[@id=\"prod-inquiry-list\"]/div/div[4]/div[1]/div[1]/div[1]/div[2]'\u001b[0m\u001b[0;34m)\u001b[0m\u001b[0;34m.\u001b[0m\u001b[0mtext\u001b[0m\u001b[0;34m\u001b[0m\u001b[0;34m\u001b[0m\u001b[0m\n\u001b[0m\u001b[1;32m     25\u001b[0m         \u001b[0mdict\u001b[0m\u001b[0;34m[\u001b[0m\u001b[0;34m'reply'\u001b[0m\u001b[0;34m]\u001b[0m \u001b[0;34m=\u001b[0m \u001b[0mdriver\u001b[0m\u001b[0;34m.\u001b[0m\u001b[0mfind_element_by_xpath\u001b[0m\u001b[0;34m(\u001b[0m\u001b[0;34m'//*[@id=\"prod-inquiry-list\"]/div/div[4]/div[1]/div[1]/div[2]/div/div[1]'\u001b[0m\u001b[0;34m)\u001b[0m\u001b[0;34m.\u001b[0m\u001b[0mtext\u001b[0m\u001b[0;34m\u001b[0m\u001b[0;34m\u001b[0m\u001b[0m\n\u001b[1;32m     26\u001b[0m         \u001b[0marray\u001b[0m\u001b[0;34m.\u001b[0m\u001b[0mappend\u001b[0m\u001b[0;34m(\u001b[0m\u001b[0mdict\u001b[0m\u001b[0;34m)\u001b[0m\u001b[0;34m\u001b[0m\u001b[0;34m\u001b[0m\u001b[0m\n",
      "\u001b[0;32m~/anaconda3/lib/python3.7/site-packages/selenium/webdriver/remote/webdriver.py\u001b[0m in \u001b[0;36mfind_element_by_xpath\u001b[0;34m(self, xpath)\u001b[0m\n\u001b[1;32m    392\u001b[0m             \u001b[0melement\u001b[0m \u001b[0;34m=\u001b[0m \u001b[0mdriver\u001b[0m\u001b[0;34m.\u001b[0m\u001b[0mfind_element_by_xpath\u001b[0m\u001b[0;34m(\u001b[0m\u001b[0;34m'//div/td[1]'\u001b[0m\u001b[0;34m)\u001b[0m\u001b[0;34m\u001b[0m\u001b[0;34m\u001b[0m\u001b[0m\n\u001b[1;32m    393\u001b[0m         \"\"\"\n\u001b[0;32m--> 394\u001b[0;31m         \u001b[0;32mreturn\u001b[0m \u001b[0mself\u001b[0m\u001b[0;34m.\u001b[0m\u001b[0mfind_element\u001b[0m\u001b[0;34m(\u001b[0m\u001b[0mby\u001b[0m\u001b[0;34m=\u001b[0m\u001b[0mBy\u001b[0m\u001b[0;34m.\u001b[0m\u001b[0mXPATH\u001b[0m\u001b[0;34m,\u001b[0m \u001b[0mvalue\u001b[0m\u001b[0;34m=\u001b[0m\u001b[0mxpath\u001b[0m\u001b[0;34m)\u001b[0m\u001b[0;34m\u001b[0m\u001b[0;34m\u001b[0m\u001b[0m\n\u001b[0m\u001b[1;32m    395\u001b[0m \u001b[0;34m\u001b[0m\u001b[0m\n\u001b[1;32m    396\u001b[0m     \u001b[0;32mdef\u001b[0m \u001b[0mfind_elements_by_xpath\u001b[0m\u001b[0;34m(\u001b[0m\u001b[0mself\u001b[0m\u001b[0;34m,\u001b[0m \u001b[0mxpath\u001b[0m\u001b[0;34m)\u001b[0m\u001b[0;34m:\u001b[0m\u001b[0;34m\u001b[0m\u001b[0;34m\u001b[0m\u001b[0m\n",
      "\u001b[0;32m~/anaconda3/lib/python3.7/site-packages/selenium/webdriver/remote/webdriver.py\u001b[0m in \u001b[0;36mfind_element\u001b[0;34m(self, by, value)\u001b[0m\n\u001b[1;32m    976\u001b[0m         return self.execute(Command.FIND_ELEMENT, {\n\u001b[1;32m    977\u001b[0m             \u001b[0;34m'using'\u001b[0m\u001b[0;34m:\u001b[0m \u001b[0mby\u001b[0m\u001b[0;34m,\u001b[0m\u001b[0;34m\u001b[0m\u001b[0;34m\u001b[0m\u001b[0m\n\u001b[0;32m--> 978\u001b[0;31m             'value': value})['value']\n\u001b[0m\u001b[1;32m    979\u001b[0m \u001b[0;34m\u001b[0m\u001b[0m\n\u001b[1;32m    980\u001b[0m     \u001b[0;32mdef\u001b[0m \u001b[0mfind_elements\u001b[0m\u001b[0;34m(\u001b[0m\u001b[0mself\u001b[0m\u001b[0;34m,\u001b[0m \u001b[0mby\u001b[0m\u001b[0;34m=\u001b[0m\u001b[0mBy\u001b[0m\u001b[0;34m.\u001b[0m\u001b[0mID\u001b[0m\u001b[0;34m,\u001b[0m \u001b[0mvalue\u001b[0m\u001b[0;34m=\u001b[0m\u001b[0;32mNone\u001b[0m\u001b[0;34m)\u001b[0m\u001b[0;34m:\u001b[0m\u001b[0;34m\u001b[0m\u001b[0;34m\u001b[0m\u001b[0m\n",
      "\u001b[0;32m~/anaconda3/lib/python3.7/site-packages/selenium/webdriver/remote/webdriver.py\u001b[0m in \u001b[0;36mexecute\u001b[0;34m(self, driver_command, params)\u001b[0m\n\u001b[1;32m    319\u001b[0m         \u001b[0mresponse\u001b[0m \u001b[0;34m=\u001b[0m \u001b[0mself\u001b[0m\u001b[0;34m.\u001b[0m\u001b[0mcommand_executor\u001b[0m\u001b[0;34m.\u001b[0m\u001b[0mexecute\u001b[0m\u001b[0;34m(\u001b[0m\u001b[0mdriver_command\u001b[0m\u001b[0;34m,\u001b[0m \u001b[0mparams\u001b[0m\u001b[0;34m)\u001b[0m\u001b[0;34m\u001b[0m\u001b[0;34m\u001b[0m\u001b[0m\n\u001b[1;32m    320\u001b[0m         \u001b[0;32mif\u001b[0m \u001b[0mresponse\u001b[0m\u001b[0;34m:\u001b[0m\u001b[0;34m\u001b[0m\u001b[0;34m\u001b[0m\u001b[0m\n\u001b[0;32m--> 321\u001b[0;31m             \u001b[0mself\u001b[0m\u001b[0;34m.\u001b[0m\u001b[0merror_handler\u001b[0m\u001b[0;34m.\u001b[0m\u001b[0mcheck_response\u001b[0m\u001b[0;34m(\u001b[0m\u001b[0mresponse\u001b[0m\u001b[0;34m)\u001b[0m\u001b[0;34m\u001b[0m\u001b[0;34m\u001b[0m\u001b[0m\n\u001b[0m\u001b[1;32m    322\u001b[0m             response['value'] = self._unwrap_value(\n\u001b[1;32m    323\u001b[0m                 response.get('value', None))\n",
      "\u001b[0;32m~/anaconda3/lib/python3.7/site-packages/selenium/webdriver/remote/errorhandler.py\u001b[0m in \u001b[0;36mcheck_response\u001b[0;34m(self, response)\u001b[0m\n\u001b[1;32m    240\u001b[0m                 \u001b[0malert_text\u001b[0m \u001b[0;34m=\u001b[0m \u001b[0mvalue\u001b[0m\u001b[0;34m[\u001b[0m\u001b[0;34m'alert'\u001b[0m\u001b[0;34m]\u001b[0m\u001b[0;34m.\u001b[0m\u001b[0mget\u001b[0m\u001b[0;34m(\u001b[0m\u001b[0;34m'text'\u001b[0m\u001b[0;34m)\u001b[0m\u001b[0;34m\u001b[0m\u001b[0;34m\u001b[0m\u001b[0m\n\u001b[1;32m    241\u001b[0m             \u001b[0;32mraise\u001b[0m \u001b[0mexception_class\u001b[0m\u001b[0;34m(\u001b[0m\u001b[0mmessage\u001b[0m\u001b[0;34m,\u001b[0m \u001b[0mscreen\u001b[0m\u001b[0;34m,\u001b[0m \u001b[0mstacktrace\u001b[0m\u001b[0;34m,\u001b[0m \u001b[0malert_text\u001b[0m\u001b[0;34m)\u001b[0m\u001b[0;34m\u001b[0m\u001b[0;34m\u001b[0m\u001b[0m\n\u001b[0;32m--> 242\u001b[0;31m         \u001b[0;32mraise\u001b[0m \u001b[0mexception_class\u001b[0m\u001b[0;34m(\u001b[0m\u001b[0mmessage\u001b[0m\u001b[0;34m,\u001b[0m \u001b[0mscreen\u001b[0m\u001b[0;34m,\u001b[0m \u001b[0mstacktrace\u001b[0m\u001b[0;34m)\u001b[0m\u001b[0;34m\u001b[0m\u001b[0;34m\u001b[0m\u001b[0m\n\u001b[0m\u001b[1;32m    243\u001b[0m \u001b[0;34m\u001b[0m\u001b[0m\n\u001b[1;32m    244\u001b[0m     \u001b[0;32mdef\u001b[0m \u001b[0m_value_or_default\u001b[0m\u001b[0;34m(\u001b[0m\u001b[0mself\u001b[0m\u001b[0;34m,\u001b[0m \u001b[0mobj\u001b[0m\u001b[0;34m,\u001b[0m \u001b[0mkey\u001b[0m\u001b[0;34m,\u001b[0m \u001b[0mdefault\u001b[0m\u001b[0;34m)\u001b[0m\u001b[0;34m:\u001b[0m\u001b[0;34m\u001b[0m\u001b[0;34m\u001b[0m\u001b[0m\n",
      "\u001b[0;31mNoSuchElementException\u001b[0m: Message: no such element: Unable to locate element: {\"method\":\"xpath\",\"selector\":\"//*[@id=\"prod-inquiry-list\"]/div/div[4]/div[1]/div[1]/div[1]/div[2]\"}\n  (Session info: chrome=85.0.4183.83)\n"
     ]
    }
   ],
   "source": [
    "import time\n",
    "from selenium import webdriver\n",
    "driver = webdriver.Chrome('/usr/bin/chromedriver')\n",
    "driver.implicitly_wait(3)\n",
    "\n",
    "# url에 접근한다.\n",
    "driver.get('https://www.coupang.com/np/search?q=%EC%B9%98%EC%A6%88&brand=&offerCondition=&filter=&availableDeliveryFilter=&filterType=&isPriceRange=false&priceRange=&minPrice=&maxPrice=&page=1&trcid=&traid=&filterSetByUser=true&channel=user&backgroundColor=&component=&rating=0&sorter=saleCountDesc&listSize=36')\n",
    "driver.switch_to.window(driver.window_handles[-1])\n",
    "\n",
    "array = []\n",
    "index = 0\n",
    "while (1==1):\n",
    "    lists=len(driver.find_elements_by_xpath('//*[@id=\"productList\"]/li'))\n",
    "    for list in range(lists):\n",
    "        list=list+1\n",
    "        driver.find_element_by_xpath('//*[@id=\"productList\"]/li['+str(list)+']/a').click()\n",
    "        driver.switch_to.window(driver.window_handles[1])\n",
    "        driver.find_element_by_xpath('//*[@id=\"btfTab\"]/ul[1]/li[3]').click()\n",
    "        #total = driver.find_element_by_xpath('div.prod-inquiry-list__expand').click()\n",
    "        #contents = driver.find_element_by_class_name('prod-inquiry-items')\n",
    "        #for content in range(contents):\n",
    "        dict = {}\n",
    "        #d['LinkSrc'] = item.find('a')['href']\n",
    "        dict['question'] = driver.find_element_by_xpath('//*[@id=\"prod-inquiry-list\"]/div/div[4]/div[1]/div[1]/div[1]/div[2]').text\n",
    "        dict['reply'] = driver.find_element_by_xpath('//*[@id=\"prod-inquiry-list\"]/div/div[4]/div[1]/div[1]/div[2]/div/div[1]').text\n",
    "        array.append(dict) \n",
    "print(array)\n",
    "        \n",
    "driver.close()\n",
    "driver.switch_to.window(driver.window_handles[-1])"
   ]
  },
  {
   "cell_type": "code",
   "execution_count": 54,
   "metadata": {},
   "outputs": [
    {
     "ename": "NoSuchElementException",
     "evalue": "Message: no such element: Unable to locate element: {\"method\":\"css selector\",\"selector\":\".div.prod-inquiry-items\"}\n  (Session info: chrome=85.0.4183.83)\n",
     "output_type": "error",
     "traceback": [
      "\u001b[0;31m---------------------------------------------------------------------------\u001b[0m",
      "\u001b[0;31mNoSuchElementException\u001b[0m                    Traceback (most recent call last)",
      "\u001b[0;32m<ipython-input-54-1e72cc86261b>\u001b[0m in \u001b[0;36m<module>\u001b[0;34m\u001b[0m\n\u001b[0;32m----> 1\u001b[0;31m \u001b[0mqna_board\u001b[0m\u001b[0;34m(\u001b[0m\u001b[0;34m)\u001b[0m\u001b[0;34m\u001b[0m\u001b[0;34m\u001b[0m\u001b[0m\n\u001b[0m",
      "\u001b[0;32m<ipython-input-53-e3e206482965>\u001b[0m in \u001b[0;36mqna_board\u001b[0;34m()\u001b[0m\n\u001b[1;32m     19\u001b[0m             \u001b[0mdriver\u001b[0m\u001b[0;34m.\u001b[0m\u001b[0mfind_element_by_xpath\u001b[0m\u001b[0;34m(\u001b[0m\u001b[0;34m'//*[@id=\"btfTab\"]/ul[1]/li[3]'\u001b[0m\u001b[0;34m)\u001b[0m\u001b[0;34m.\u001b[0m\u001b[0mclick\u001b[0m\u001b[0;34m(\u001b[0m\u001b[0;34m)\u001b[0m\u001b[0;34m\u001b[0m\u001b[0;34m\u001b[0m\u001b[0m\n\u001b[1;32m     20\u001b[0m             \u001b[0;31m#total = driver.find_element_by_xpath('div.prod-inquiry-list__expand').click()\u001b[0m\u001b[0;34m\u001b[0m\u001b[0;34m\u001b[0m\u001b[0;34m\u001b[0m\u001b[0m\n\u001b[0;32m---> 21\u001b[0;31m             \u001b[0mcontents\u001b[0m \u001b[0;34m=\u001b[0m \u001b[0mdriver\u001b[0m\u001b[0;34m.\u001b[0m\u001b[0mfind_element_by_class_name\u001b[0m\u001b[0;34m(\u001b[0m\u001b[0;34m'div.prod-inquiry-items'\u001b[0m\u001b[0;34m)\u001b[0m\u001b[0;34m\u001b[0m\u001b[0;34m\u001b[0m\u001b[0m\n\u001b[0m\u001b[1;32m     22\u001b[0m             \u001b[0;32mfor\u001b[0m \u001b[0mcontent\u001b[0m \u001b[0;32min\u001b[0m \u001b[0mrange\u001b[0m\u001b[0;34m(\u001b[0m\u001b[0mcontents\u001b[0m\u001b[0;34m)\u001b[0m\u001b[0;34m:\u001b[0m\u001b[0;34m\u001b[0m\u001b[0;34m\u001b[0m\u001b[0m\n\u001b[1;32m     23\u001b[0m                 \u001b[0mdict\u001b[0m \u001b[0;34m=\u001b[0m \u001b[0;34m{\u001b[0m\u001b[0;34m}\u001b[0m\u001b[0;34m\u001b[0m\u001b[0;34m\u001b[0m\u001b[0m\n",
      "\u001b[0;32m~/anaconda3/lib/python3.7/site-packages/selenium/webdriver/remote/webdriver.py\u001b[0m in \u001b[0;36mfind_element_by_class_name\u001b[0;34m(self, name)\u001b[0m\n\u001b[1;32m    562\u001b[0m             \u001b[0melement\u001b[0m \u001b[0;34m=\u001b[0m \u001b[0mdriver\u001b[0m\u001b[0;34m.\u001b[0m\u001b[0mfind_element_by_class_name\u001b[0m\u001b[0;34m(\u001b[0m\u001b[0;34m'foo'\u001b[0m\u001b[0;34m)\u001b[0m\u001b[0;34m\u001b[0m\u001b[0;34m\u001b[0m\u001b[0m\n\u001b[1;32m    563\u001b[0m         \"\"\"\n\u001b[0;32m--> 564\u001b[0;31m         \u001b[0;32mreturn\u001b[0m \u001b[0mself\u001b[0m\u001b[0;34m.\u001b[0m\u001b[0mfind_element\u001b[0m\u001b[0;34m(\u001b[0m\u001b[0mby\u001b[0m\u001b[0;34m=\u001b[0m\u001b[0mBy\u001b[0m\u001b[0;34m.\u001b[0m\u001b[0mCLASS_NAME\u001b[0m\u001b[0;34m,\u001b[0m \u001b[0mvalue\u001b[0m\u001b[0;34m=\u001b[0m\u001b[0mname\u001b[0m\u001b[0;34m)\u001b[0m\u001b[0;34m\u001b[0m\u001b[0;34m\u001b[0m\u001b[0m\n\u001b[0m\u001b[1;32m    565\u001b[0m \u001b[0;34m\u001b[0m\u001b[0m\n\u001b[1;32m    566\u001b[0m     \u001b[0;32mdef\u001b[0m \u001b[0mfind_elements_by_class_name\u001b[0m\u001b[0;34m(\u001b[0m\u001b[0mself\u001b[0m\u001b[0;34m,\u001b[0m \u001b[0mname\u001b[0m\u001b[0;34m)\u001b[0m\u001b[0;34m:\u001b[0m\u001b[0;34m\u001b[0m\u001b[0;34m\u001b[0m\u001b[0m\n",
      "\u001b[0;32m~/anaconda3/lib/python3.7/site-packages/selenium/webdriver/remote/webdriver.py\u001b[0m in \u001b[0;36mfind_element\u001b[0;34m(self, by, value)\u001b[0m\n\u001b[1;32m    976\u001b[0m         return self.execute(Command.FIND_ELEMENT, {\n\u001b[1;32m    977\u001b[0m             \u001b[0;34m'using'\u001b[0m\u001b[0;34m:\u001b[0m \u001b[0mby\u001b[0m\u001b[0;34m,\u001b[0m\u001b[0;34m\u001b[0m\u001b[0;34m\u001b[0m\u001b[0m\n\u001b[0;32m--> 978\u001b[0;31m             'value': value})['value']\n\u001b[0m\u001b[1;32m    979\u001b[0m \u001b[0;34m\u001b[0m\u001b[0m\n\u001b[1;32m    980\u001b[0m     \u001b[0;32mdef\u001b[0m \u001b[0mfind_elements\u001b[0m\u001b[0;34m(\u001b[0m\u001b[0mself\u001b[0m\u001b[0;34m,\u001b[0m \u001b[0mby\u001b[0m\u001b[0;34m=\u001b[0m\u001b[0mBy\u001b[0m\u001b[0;34m.\u001b[0m\u001b[0mID\u001b[0m\u001b[0;34m,\u001b[0m \u001b[0mvalue\u001b[0m\u001b[0;34m=\u001b[0m\u001b[0;32mNone\u001b[0m\u001b[0;34m)\u001b[0m\u001b[0;34m:\u001b[0m\u001b[0;34m\u001b[0m\u001b[0;34m\u001b[0m\u001b[0m\n",
      "\u001b[0;32m~/anaconda3/lib/python3.7/site-packages/selenium/webdriver/remote/webdriver.py\u001b[0m in \u001b[0;36mexecute\u001b[0;34m(self, driver_command, params)\u001b[0m\n\u001b[1;32m    319\u001b[0m         \u001b[0mresponse\u001b[0m \u001b[0;34m=\u001b[0m \u001b[0mself\u001b[0m\u001b[0;34m.\u001b[0m\u001b[0mcommand_executor\u001b[0m\u001b[0;34m.\u001b[0m\u001b[0mexecute\u001b[0m\u001b[0;34m(\u001b[0m\u001b[0mdriver_command\u001b[0m\u001b[0;34m,\u001b[0m \u001b[0mparams\u001b[0m\u001b[0;34m)\u001b[0m\u001b[0;34m\u001b[0m\u001b[0;34m\u001b[0m\u001b[0m\n\u001b[1;32m    320\u001b[0m         \u001b[0;32mif\u001b[0m \u001b[0mresponse\u001b[0m\u001b[0;34m:\u001b[0m\u001b[0;34m\u001b[0m\u001b[0;34m\u001b[0m\u001b[0m\n\u001b[0;32m--> 321\u001b[0;31m             \u001b[0mself\u001b[0m\u001b[0;34m.\u001b[0m\u001b[0merror_handler\u001b[0m\u001b[0;34m.\u001b[0m\u001b[0mcheck_response\u001b[0m\u001b[0;34m(\u001b[0m\u001b[0mresponse\u001b[0m\u001b[0;34m)\u001b[0m\u001b[0;34m\u001b[0m\u001b[0;34m\u001b[0m\u001b[0m\n\u001b[0m\u001b[1;32m    322\u001b[0m             response['value'] = self._unwrap_value(\n\u001b[1;32m    323\u001b[0m                 response.get('value', None))\n",
      "\u001b[0;32m~/anaconda3/lib/python3.7/site-packages/selenium/webdriver/remote/errorhandler.py\u001b[0m in \u001b[0;36mcheck_response\u001b[0;34m(self, response)\u001b[0m\n\u001b[1;32m    240\u001b[0m                 \u001b[0malert_text\u001b[0m \u001b[0;34m=\u001b[0m \u001b[0mvalue\u001b[0m\u001b[0;34m[\u001b[0m\u001b[0;34m'alert'\u001b[0m\u001b[0;34m]\u001b[0m\u001b[0;34m.\u001b[0m\u001b[0mget\u001b[0m\u001b[0;34m(\u001b[0m\u001b[0;34m'text'\u001b[0m\u001b[0;34m)\u001b[0m\u001b[0;34m\u001b[0m\u001b[0;34m\u001b[0m\u001b[0m\n\u001b[1;32m    241\u001b[0m             \u001b[0;32mraise\u001b[0m \u001b[0mexception_class\u001b[0m\u001b[0;34m(\u001b[0m\u001b[0mmessage\u001b[0m\u001b[0;34m,\u001b[0m \u001b[0mscreen\u001b[0m\u001b[0;34m,\u001b[0m \u001b[0mstacktrace\u001b[0m\u001b[0;34m,\u001b[0m \u001b[0malert_text\u001b[0m\u001b[0;34m)\u001b[0m\u001b[0;34m\u001b[0m\u001b[0;34m\u001b[0m\u001b[0m\n\u001b[0;32m--> 242\u001b[0;31m         \u001b[0;32mraise\u001b[0m \u001b[0mexception_class\u001b[0m\u001b[0;34m(\u001b[0m\u001b[0mmessage\u001b[0m\u001b[0;34m,\u001b[0m \u001b[0mscreen\u001b[0m\u001b[0;34m,\u001b[0m \u001b[0mstacktrace\u001b[0m\u001b[0;34m)\u001b[0m\u001b[0;34m\u001b[0m\u001b[0;34m\u001b[0m\u001b[0m\n\u001b[0m\u001b[1;32m    243\u001b[0m \u001b[0;34m\u001b[0m\u001b[0m\n\u001b[1;32m    244\u001b[0m     \u001b[0;32mdef\u001b[0m \u001b[0m_value_or_default\u001b[0m\u001b[0;34m(\u001b[0m\u001b[0mself\u001b[0m\u001b[0;34m,\u001b[0m \u001b[0mobj\u001b[0m\u001b[0;34m,\u001b[0m \u001b[0mkey\u001b[0m\u001b[0;34m,\u001b[0m \u001b[0mdefault\u001b[0m\u001b[0;34m)\u001b[0m\u001b[0;34m:\u001b[0m\u001b[0;34m\u001b[0m\u001b[0;34m\u001b[0m\u001b[0m\n",
      "\u001b[0;31mNoSuchElementException\u001b[0m: Message: no such element: Unable to locate element: {\"method\":\"css selector\",\"selector\":\".div.prod-inquiry-items\"}\n  (Session info: chrome=85.0.4183.83)\n"
     ]
    }
   ],
   "source": [
    "qna_board()"
   ]
  },
  {
   "cell_type": "code",
   "execution_count": 105,
   "metadata": {},
   "outputs": [
    {
     "data": {
      "text/plain": [
       "[]"
      ]
     },
     "execution_count": 105,
     "metadata": {},
     "output_type": "execute_result"
    }
   ],
   "source": [
    "import time\n",
    "from selenium import webdriver\n",
    "driver = webdriver.Chrome('/usr/bin/chromedriver')\n",
    "driver.implicitly_wait(3)\n",
    "\n",
    "# url에 접근한다.\n",
    "driver.get('https://www.coupang.com/vp/products/189754127?itemId=542159026&vendorItemId=4418126314&q=%EC%B9%98%EC%A6%88&itemsCount=36&searchId=3f94e3888f45492bb5779934fd7599fb&rank=9&isAddedCart=')\n",
    "driver.switch_to.window(driver.window_handles[-1])\n",
    "\n",
    "fnq_list = []\n",
    "index = 0\n",
    "\n",
    "def fnq_coupang():\n",
    "    driver.find_element_by_xpath('//*[@id=\"btfTab\"]/ul[1]/li[3]').click()\n",
    "    #pages = \n",
    "    #for page in pages:\n",
    "        \n",
    "    items = driver.find_elements_by_xpath('//*[@id=\"prod-inquiry-list\"]/div/div[4]/div[1]')\n",
    "    for item in items:\n",
    "        fnq_dict = {}\n",
    "        \n",
    "        #fnq_dict['title'] = driver.find_element_by_xpath('//*[@id=\"frmDel\"]/div[4]/table/tbody/tr[2]/td[4]/span/a').text\n",
    "        #container = driver.find_element_by_class(\"prev\")  \n",
    "        #driver.execute_script(\"arguments[0].style.display = 'block';\", container)\n",
    "        \n",
    "        #fnq_dict['product'] = driver.find_element_by_class_name('prod-buy-header__title').text\n",
    "        #fnq_dict['content'] = driver.find_element_by_class_name('prod-inquiry-item__content').text\n",
    "        #fnq_dict['reply'] = driver.find_element_by_class_name('prod-inquiry-item__reply__content').text\n",
    "        \n",
    "        fnq_dict['product'] = driver.find_element_by_xpath('prod-buy-header__title').text\n",
    "        fnq_dict['content'] = driver.find_element_by_xpath('prod-inquiry-item__content').text\n",
    "        fnq_dict['reply'] = driver.find_element_by_xpath('prod-inquiry-item__reply__content').text\n",
    "        fnq_list.append(fnq_dict)\n",
    "    return (fnq_list)\n",
    "\n",
    "fnq_coupang()"
   ]
  },
  {
   "cell_type": "code",
   "execution_count": 102,
   "metadata": {},
   "outputs": [
    {
     "name": "stdout",
     "output_type": "stream",
     "text": [
      "{}\n"
     ]
    }
   ],
   "source": [
    "import time\n",
    "from selenium import webdriver\n",
    "driver = webdriver.Chrome('/usr/bin/chromedriver')\n",
    "driver.implicitly_wait(3)\n",
    "\n",
    "# url에 접근한다.\n",
    "driver.get('https://www.coupang.com/vp/products/189754127?itemId=542159026&vendorItemId=4418126314&q=%EC%B9%98%EC%A6%88&itemsCount=36&searchId=3f94e3888f45492bb5779934fd7599fb&rank=9&isAddedCart=')\n",
    "driver.switch_to.window(driver.window_handles[-1])\n",
    "\n",
    "fnq_list = []\n",
    "index = 0\n",
    "\n",
    "driver.find_element_by_xpath('//*[@id=\"btfTab\"]/ul[1]/li[3]').click()\n",
    "\n",
    "for item in items:  \n",
    "    dict = {}\n",
    "    dict['content'] = driver.find_element_by_xpath('prod-inquiry-item__content').text\n",
    "\n",
    "print(dict)\n"
   ]
  },
  {
   "cell_type": "code",
   "execution_count": 92,
   "metadata": {},
   "outputs": [
    {
     "data": {
      "text/plain": [
       "[]"
      ]
     },
     "execution_count": 92,
     "metadata": {},
     "output_type": "execute_result"
    }
   ],
   "source": [
    "fnq_coupang()"
   ]
  },
  {
   "cell_type": "code",
   "execution_count": 137,
   "metadata": {},
   "outputs": [],
   "source": [
    "import time\n",
    "from selenium import webdriver\n",
    "driver = webdriver.Chrome('/usr/bin/chromedriver')\n",
    "driver.implicitly_wait(3)\n",
    "\n",
    "# url에 접근한다.\n",
    "driver.get('https://www.coupang.com/vp/products/189754127?itemId=542159026&vendorItemId=4418126314&q=%EC%B9%98%EC%A6%88&itemsCount=36&searchId=3f94e3888f45492bb5779934fd7599fb&rank=9&isAddedCart=')\n",
    "driver.switch_to.window(driver.window_handles[-1])\n",
    "\n",
    "fnq_list = []\n",
    "index = 0\n",
    "\n",
    "def fnq_coupang():\n",
    "    driver.find_element_by_xpath('//*[@id=\"btfTab\"]/ul[1]/li[3]').click()\n",
    "    \n",
    "    items = driver.find_elements_by_class_name('prod-inquiry-items')\n",
    "\n",
    "    for item in items:\n",
    "        fnq_dict = {}\n",
    "        fnq_dict['product'] = driver.find_element_by_class_name('prod-buy-header__title').text\n",
    "        fnq_dict['content'] = driver.find_element_by_class_name('prod-inquiry-item__content').text\n",
    "        fnq_dict['reply'] = driver.find_element_by_class_name('prod-inquiry-item__reply__content').text\n",
    "        fnq_list.append(fnq_dict)\n",
    "    return (fnq_list)\n"
   ]
  },
  {
   "cell_type": "code",
   "execution_count": 138,
   "metadata": {},
   "outputs": [
    {
     "data": {
      "text/plain": [
       "[{'product': '밀라 마스카포네 치즈',\n",
       "  'content': '제품 바닥에 있는 유통기한 표기 순서가 어떻게 되는 건가요?? 월 일 년??일 월 년??',\n",
       "  'reply': \"밀라 마스카포네 치즈 상품은 상품마다 유통기한 표기 방식에 차이가 있으며, 실제 수령하시는 상품에 표기된 날짜가 기재된 순서를 '한글표시사항 유통기한' 영역에서 확인이 필요한 점 상세페이지 내 안내드리고 있으니 참고하여 이용 부탁드립니다.\"}]"
      ]
     },
     "execution_count": 138,
     "metadata": {},
     "output_type": "execute_result"
    }
   ],
   "source": [
    "fnq_coupang()"
   ]
  },
  {
   "cell_type": "markdown",
   "metadata": {},
   "source": [
    "### 문의 게시판 하나만 나옴."
   ]
  },
  {
   "cell_type": "code",
   "execution_count": 114,
   "metadata": {},
   "outputs": [],
   "source": [
    "import time\n",
    "from selenium import webdriver\n",
    "driver = webdriver.Chrome('/usr/bin/chromedriver')\n",
    "driver.implicitly_wait(3)\n",
    "\n",
    "# url에 접근한다.\n",
    "driver.get('https://www.coupang.com/vp/products/189754127?itemId=542159026&vendorItemId=4418126314&q=%EC%B9%98%EC%A6%88&itemsCount=36&searchId=3f94e3888f45492bb5779934fd7599fb&rank=9&isAddedCart=')\n",
    "driver.switch_to.window(driver.window_handles[-1])\n",
    "\n",
    "fnq_list = []\n",
    "index = 0\n",
    "\n",
    "def fnq_coupang():\n",
    "    driver.find_element_by_xpath('//*[@id=\"btfTab\"]/ul[1]/li[3]').click()\n",
    "    \n",
    "    items = driver.find_elements_by_xpath('//*[@id=\"prod-inquiry-list\"]/div/div[4]/div[1]')\n",
    "    for item in items:\n",
    "        fnq_dict = {}\n",
    "        #fnq_dict['title'] = driver.find_element_by_xpath('//*[@id=\"frmDel\"]/div[4]/table/tbody/tr[2]/td[4]/span/a').text\n",
    "        #container = driver.find_element_by_class(\"prev\")  \n",
    "        #driver.execute_script(\"arguments[0].style.display = 'block';\", container)\n",
    "        \n",
    "        #fnq_xpath('//*[@id=\"prod-inquiry-list\"]/div/div[4]/div[1]/div['+str(item)+']')\n",
    "        \n",
    "        for num in range(len(items)):\n",
    "            fnq_dict['product'] = driver.find_element_by_xpath('//*[@id=\"contents\"]/div[1]/div/div[3]/div[3]/h2').text\n",
    "            fnq_dict['content'] = driver.find_element_by_xpath('//*[@id=\"prod-inquiry-list\"]/div/div[4]/div[1]/div[1]/div[1]/div[2]').text\n",
    "            fnq_dict['reply'] = driver.find_element_by_xpath('//*[@id=\"prod-inquiry-list\"]/div/div[4]/div[1]/div[1]/div[2]/div/div[1]').text\n",
    "            fnq_list.append(fnq_dict)\n",
    "    return (fnq_list)\n"
   ]
  },
  {
   "cell_type": "markdown",
   "metadata": {},
   "source": [
    "### 문의 게시판 여러개 나오도록 해보기"
   ]
  },
  {
   "cell_type": "code",
   "execution_count": 133,
   "metadata": {},
   "outputs": [],
   "source": [
    "import time\n",
    "from selenium import webdriver\n",
    "driver = webdriver.Chrome('/usr/bin/chromedriver')\n",
    "driver.implicitly_wait(3)\n",
    "\n",
    "# url에 접근한다.\n",
    "driver.get('https://www.coupang.com/vp/products/189754127?itemId=542159026&vendorItemId=4418126314&q=%EC%B9%98%EC%A6%88&itemsCount=36&searchId=3f94e3888f45492bb5779934fd7599fb&rank=9&isAddedCart=')\n",
    "driver.switch_to.window(driver.window_handles[-1])\n",
    "\n",
    "fnq_list = []\n",
    "index = 0\n",
    "\n",
    "def fnq_coupang():\n",
    "    driver.find_element_by_xpath('//*[@id=\"btfTab\"]/ul[1]/li[3]').click()\n",
    "    \n",
    "    items = driver.find_elements_by_xpath('//*[@id=\"prod-inquiry-list\"]/div/div[4]/div[1]')\n",
    "    for item in items:\n",
    "        fnq_dict = {}\n",
    "        #fnq_dict['title'] = driver.find_element_by_xpath('//*[@id=\"frmDel\"]/div[4]/table/tbody/tr[2]/td[4]/span/a').text\n",
    "        #container = driver.find_element_by_class(\"prev\")  \n",
    "        #driver.execute_script(\"arguments[0].style.display = 'block';\", container)\n",
    "        \n",
    "        #fnq_xpath('//*[@id=\"prod-inquiry-list\"]/div/div[4]/div[1]/div['+str(item)+']')\n",
    "        \n",
    "        number = len(driver.find_elements_by_xpath('//*[@id=\"prod-inquiry-list\"]/div/div[4]/div[1]/div'))      \n",
    "        for num in range(number):\n",
    "            num=num+1\n",
    "            time.sleep(1)\n",
    "            \n",
    "            fnq_dict['product'] = driver.find_element_by_xpath('//*[@id=\"contents\"]/div[1]/div/div[3]/div[3]/h2').text\n",
    "            fnq_dict['content'] = driver.find_element_by_xpath('//*[@id=\"prod-inquiry-list\"]/div/div[4]/div[1]/div[2]/div[1]/div[2]').text\n",
    "            fnq_dict['reply'] = driver.find_element_by_xpath('//*[@id=\"prod-inquiry-list\"]/div/div[4]/div[1]/div[2]/div[2]/div/div[1]').text\n",
    "            fnq_list.append(fnq_dict)\n",
    "    return (fnq_list)\n"
   ]
  },
  {
   "cell_type": "code",
   "execution_count": 143,
   "metadata": {
    "scrolled": true
   },
   "outputs": [
    {
     "name": "stdout",
     "output_type": "stream",
     "text": [
      "0\n",
      "0\n",
      "0\n",
      "0\n"
     ]
    }
   ],
   "source": [
    "import time\n",
    "from selenium import webdriver\n",
    "driver = webdriver.Chrome('/usr/bin/chromedriver')\n",
    "driver.implicitly_wait(3)\n",
    "\n",
    "# url에 접근한다.\n",
    "driver.get('https://www.coupang.com/vp/products/189754127?itemId=542159026&vendorItemId=4418126314&q=%EC%B9%98%EC%A6%88&itemsCount=36&searchId=3f94e3888f45492bb5779934fd7599fb&rank=9&isAddedCart=')\n",
    "\n",
    "items = len(driver.find_elements_by_xpath('//*[@class=\"prod-tab\"]/div/div[4]/div[1]/div'))\n",
    "item_1 = len(driver.find_elements_by_class_name('prod-inquiry-item'))\n",
    "item_2 = len(driver.find_elements_by_xpath('//*[@id=\"prod-inquiry-list\"]/div/div[4]/div[1]/div[1]/div[1]/div[2]'))\n",
    "item_3 = len(driver.find_elements_by_class_name('prod-inquiry-item__content'))\n",
    "item_4 = len(driver.find_elements_by_xpath('//*[@id=\"prod-inquiry-list\"]/div/div[4]/div[1]/div[1]/div[1]'))\n",
    "print(items)\n",
    "print(item_1)\n",
    "print(item_2)\n",
    "print(item_3)"
   ]
  },
  {
   "cell_type": "code",
   "execution_count": 134,
   "metadata": {},
   "outputs": [
    {
     "data": {
      "text/plain": [
       "[{'product': '밀라 마스카포네 치즈',\n",
       "  'content': '꾸덕한가요?',\n",
       "  'reply': '밀라 마스카포네 치즈, 500g 상품은 버터처럼 고소한 맛과 생크림처럼 부드러운 질감을 가지고 있는 제품이며, 상세페이지 내 안내드리고 있으니 참고하여 이용 부탁드립니다.'},\n",
       " {'product': '밀라 마스카포네 치즈',\n",
       "  'content': '꾸덕한가요?',\n",
       "  'reply': '밀라 마스카포네 치즈, 500g 상품은 버터처럼 고소한 맛과 생크림처럼 부드러운 질감을 가지고 있는 제품이며, 상세페이지 내 안내드리고 있으니 참고하여 이용 부탁드립니다.'},\n",
       " {'product': '밀라 마스카포네 치즈',\n",
       "  'content': '꾸덕한가요?',\n",
       "  'reply': '밀라 마스카포네 치즈, 500g 상품은 버터처럼 고소한 맛과 생크림처럼 부드러운 질감을 가지고 있는 제품이며, 상세페이지 내 안내드리고 있으니 참고하여 이용 부탁드립니다.'},\n",
       " {'product': '밀라 마스카포네 치즈',\n",
       "  'content': '꾸덕한가요?',\n",
       "  'reply': '밀라 마스카포네 치즈, 500g 상품은 버터처럼 고소한 맛과 생크림처럼 부드러운 질감을 가지고 있는 제품이며, 상세페이지 내 안내드리고 있으니 참고하여 이용 부탁드립니다.'}]"
      ]
     },
     "execution_count": 134,
     "metadata": {},
     "output_type": "execute_result"
    }
   ],
   "source": [
    "fnq_coupang()"
   ]
  },
  {
   "cell_type": "markdown",
   "metadata": {},
   "source": [
    "### (2) 옥션"
   ]
  },
  {
   "cell_type": "code",
   "execution_count": 74,
   "metadata": {},
   "outputs": [],
   "source": [
    "import time\n",
    "from selenium import webdriver\n",
    "driver = webdriver.Chrome('/usr/bin/chromedriver')\n",
    "driver.implicitly_wait(3)\n",
    "\n",
    "# url에 접근한다.\n",
    "driver.get('http://itempage3.auction.co.kr/DetailView.aspx?ItemNo=A526066300&frm3=V2')\n",
    "driver.switch_to.window(driver.window_handles[-1])\n",
    "\n",
    "fnq_list = []\n",
    "index = 0\n",
    "\n",
    "def fnq_auction():\n",
    "    driver.find_element_by_xpath('//*[@id=\"ulVipTab\"]/ul/li[3]/a').click()\n",
    "    try:\n",
    "        if driver.find_elements_by_xpath('//*[@id=\"frmDel\"]/div[4]/table/tbody'):\n",
    "            print('found')\n",
    "    except:\n",
    "        print('Not found')\n",
    "    \n",
    "    \n",
    "    #items = len(driver.find_element_by_xpath('//*[@id=\"frmDel\"]/div[4]/table/tbody'))\n",
    "    #for item in range(items):\n",
    "    #    fnq_dict = {}\n",
    "    #    fnq_dict['title'] = driver.find_element_by_xpath('//*[@id=\"frmDel\"]/div[4]/table/tbody/tr[2]/td[4]/span/a').text\n",
    "    #    fnq_dict['content'] = driver.find_element_by_xpath('//*[@id=\"247763838\"]/dl/dd[3]/div').text\n",
    "    #    fnq_dict['reply'] = driver.find_element_by_xpath('//*[@id=\"247763838\"]/dl/dd[4]/table/tbody/tr/td[2]/div').text\n",
    "    #    fnq_list.append(fnq_dict)\n",
    "    #return (fnq_list)\n"
   ]
  },
  {
   "cell_type": "code",
   "execution_count": 76,
   "metadata": {},
   "outputs": [],
   "source": [
    "fnq_auction()"
   ]
  },
  {
   "cell_type": "code",
   "execution_count": 83,
   "metadata": {},
   "outputs": [],
   "source": [
    "import time\n",
    "from selenium import webdriver\n",
    "driver = webdriver.Chrome('/usr/bin/chromedriver')\n",
    "driver.implicitly_wait(3)\n",
    "\n",
    "# url에 접근한다.\n",
    "driver.get('http://itempage3.auction.co.kr/DetailView.aspx?ItemNo=A526066300&frm3=V2')\n",
    "driver.switch_to.window(driver.window_handles[-1])\n",
    "\n",
    "fnq_list = []\n",
    "index = 0\n",
    "\n",
    "def fnq_auction():\n",
    "    driver.find_element_by_xpath('//*[@id=\"ulVipTab\"]/ul/li[3]/a').click()\n",
    "    items = driver.find_elements_by_xpath('//*[@id=\"frmDel\"]/div[4]/table/tbody')\n",
    "    for item in items:\n",
    "        fnq_dict = {}\n",
    "        fnq_dict['product'] = driver.find_element_by_xpath('//*[@id=\"frmMain\"]/h1/span').text\n",
    "        fnq_dict['title'] = driver.find_element_by_xpath('//*[@id=\"frmDel\"]/div[4]/table/tbody/tr[2]/td[4]/span/a').text\n",
    "        \n",
    "        btn = driver.find_element_by_xpath('//*[@id=\"contents\"]/div[2]/div[4]')\n",
    "        driver.execute_script(\"arguments[0].setAttribute('style', 'display: block;')\", btn)\n",
    "\n",
    "\n",
    "        fnq_dict['content'] = driver.find_element_by_xpath('//*[@id=\"247763838\"]/dl/dd[3]/div').text\n",
    "        fnq_dict['reply'] = driver.find_element_by_xpath('//*[@id=\"247763838\"]/dl/dd[4]/table/tbody/tr/td[2]/div').text\n",
    "        fnq_list.append(fnq_dict)\n",
    "    return (fnq_list)\n"
   ]
  },
  {
   "cell_type": "code",
   "execution_count": 84,
   "metadata": {},
   "outputs": [
    {
     "data": {
      "text/plain": [
       "[]"
      ]
     },
     "execution_count": 84,
     "metadata": {},
     "output_type": "execute_result"
    }
   ],
   "source": [
    "fnq_auction()"
   ]
  },
  {
   "cell_type": "code",
   "execution_count": 148,
   "metadata": {},
   "outputs": [],
   "source": [
    "import time\n",
    "from selenium import webdriver\n",
    "driver = webdriver.Chrome('/usr/bin/chromedriver')\n",
    "driver.implicitly_wait(3)\n",
    "\n",
    "# url에 접근한다.\n",
    "driver.get('http://itempage3.auction.co.kr/DetailView.aspx?ItemNo=A526066300&frm3=V2')\n",
    "driver.find_element_by_xpath('//*[@id=\"ulVipTab\"]/ul/li[3]/a').click()\n",
    "\n",
    "btn = driver.find_element_by_class_name('prev')\n",
    "driver.execute_script(\"arguments[0].setAttribute('style', 'display: block;')\", btn)"
   ]
  },
  {
   "cell_type": "code",
   "execution_count": 154,
   "metadata": {},
   "outputs": [
    {
     "ename": "NoSuchElementException",
     "evalue": "Message: no such element: Unable to locate element: {\"method\":\"css selector\",\"selector\":\"table.vip v2 > tbody > tr.prev\"}\n  (Session info: chrome=85.0.4183.83)\n",
     "output_type": "error",
     "traceback": [
      "\u001b[0;31m---------------------------------------------------------------------------\u001b[0m",
      "\u001b[0;31mNoSuchElementException\u001b[0m                    Traceback (most recent call last)",
      "\u001b[0;32m<ipython-input-154-3eae49f8a642>\u001b[0m in \u001b[0;36m<module>\u001b[0;34m\u001b[0m\n\u001b[1;32m      8\u001b[0m \u001b[0mdriver\u001b[0m\u001b[0;34m.\u001b[0m\u001b[0mfind_element_by_xpath\u001b[0m\u001b[0;34m(\u001b[0m\u001b[0;34m'//*[@id=\"ulVipTab\"]/ul/li[3]/a'\u001b[0m\u001b[0;34m)\u001b[0m\u001b[0;34m.\u001b[0m\u001b[0mclick\u001b[0m\u001b[0;34m(\u001b[0m\u001b[0;34m)\u001b[0m\u001b[0;34m\u001b[0m\u001b[0;34m\u001b[0m\u001b[0m\n\u001b[1;32m      9\u001b[0m \u001b[0;34m\u001b[0m\u001b[0m\n\u001b[0;32m---> 10\u001b[0;31m \u001b[0ma\u001b[0m \u001b[0;34m=\u001b[0m \u001b[0mdriver\u001b[0m\u001b[0;34m.\u001b[0m\u001b[0mfind_element_by_css_selector\u001b[0m\u001b[0;34m(\u001b[0m\u001b[0;34m'table.vip v2 > tbody > tr.prev'\u001b[0m\u001b[0;34m)\u001b[0m\u001b[0;34m.\u001b[0m\u001b[0mtext\u001b[0m\u001b[0;34m\u001b[0m\u001b[0;34m\u001b[0m\u001b[0m\n\u001b[0m\u001b[1;32m     11\u001b[0m \u001b[0mprint\u001b[0m\u001b[0;34m(\u001b[0m\u001b[0ma\u001b[0m\u001b[0;34m)\u001b[0m\u001b[0;34m\u001b[0m\u001b[0;34m\u001b[0m\u001b[0m\n",
      "\u001b[0;32m~/anaconda3/lib/python3.7/site-packages/selenium/webdriver/remote/webdriver.py\u001b[0m in \u001b[0;36mfind_element_by_css_selector\u001b[0;34m(self, css_selector)\u001b[0m\n\u001b[1;32m    596\u001b[0m             \u001b[0melement\u001b[0m \u001b[0;34m=\u001b[0m \u001b[0mdriver\u001b[0m\u001b[0;34m.\u001b[0m\u001b[0mfind_element_by_css_selector\u001b[0m\u001b[0;34m(\u001b[0m\u001b[0;34m'#foo'\u001b[0m\u001b[0;34m)\u001b[0m\u001b[0;34m\u001b[0m\u001b[0;34m\u001b[0m\u001b[0m\n\u001b[1;32m    597\u001b[0m         \"\"\"\n\u001b[0;32m--> 598\u001b[0;31m         \u001b[0;32mreturn\u001b[0m \u001b[0mself\u001b[0m\u001b[0;34m.\u001b[0m\u001b[0mfind_element\u001b[0m\u001b[0;34m(\u001b[0m\u001b[0mby\u001b[0m\u001b[0;34m=\u001b[0m\u001b[0mBy\u001b[0m\u001b[0;34m.\u001b[0m\u001b[0mCSS_SELECTOR\u001b[0m\u001b[0;34m,\u001b[0m \u001b[0mvalue\u001b[0m\u001b[0;34m=\u001b[0m\u001b[0mcss_selector\u001b[0m\u001b[0;34m)\u001b[0m\u001b[0;34m\u001b[0m\u001b[0;34m\u001b[0m\u001b[0m\n\u001b[0m\u001b[1;32m    599\u001b[0m \u001b[0;34m\u001b[0m\u001b[0m\n\u001b[1;32m    600\u001b[0m     \u001b[0;32mdef\u001b[0m \u001b[0mfind_elements_by_css_selector\u001b[0m\u001b[0;34m(\u001b[0m\u001b[0mself\u001b[0m\u001b[0;34m,\u001b[0m \u001b[0mcss_selector\u001b[0m\u001b[0;34m)\u001b[0m\u001b[0;34m:\u001b[0m\u001b[0;34m\u001b[0m\u001b[0;34m\u001b[0m\u001b[0m\n",
      "\u001b[0;32m~/anaconda3/lib/python3.7/site-packages/selenium/webdriver/remote/webdriver.py\u001b[0m in \u001b[0;36mfind_element\u001b[0;34m(self, by, value)\u001b[0m\n\u001b[1;32m    976\u001b[0m         return self.execute(Command.FIND_ELEMENT, {\n\u001b[1;32m    977\u001b[0m             \u001b[0;34m'using'\u001b[0m\u001b[0;34m:\u001b[0m \u001b[0mby\u001b[0m\u001b[0;34m,\u001b[0m\u001b[0;34m\u001b[0m\u001b[0;34m\u001b[0m\u001b[0m\n\u001b[0;32m--> 978\u001b[0;31m             'value': value})['value']\n\u001b[0m\u001b[1;32m    979\u001b[0m \u001b[0;34m\u001b[0m\u001b[0m\n\u001b[1;32m    980\u001b[0m     \u001b[0;32mdef\u001b[0m \u001b[0mfind_elements\u001b[0m\u001b[0;34m(\u001b[0m\u001b[0mself\u001b[0m\u001b[0;34m,\u001b[0m \u001b[0mby\u001b[0m\u001b[0;34m=\u001b[0m\u001b[0mBy\u001b[0m\u001b[0;34m.\u001b[0m\u001b[0mID\u001b[0m\u001b[0;34m,\u001b[0m \u001b[0mvalue\u001b[0m\u001b[0;34m=\u001b[0m\u001b[0;32mNone\u001b[0m\u001b[0;34m)\u001b[0m\u001b[0;34m:\u001b[0m\u001b[0;34m\u001b[0m\u001b[0;34m\u001b[0m\u001b[0m\n",
      "\u001b[0;32m~/anaconda3/lib/python3.7/site-packages/selenium/webdriver/remote/webdriver.py\u001b[0m in \u001b[0;36mexecute\u001b[0;34m(self, driver_command, params)\u001b[0m\n\u001b[1;32m    319\u001b[0m         \u001b[0mresponse\u001b[0m \u001b[0;34m=\u001b[0m \u001b[0mself\u001b[0m\u001b[0;34m.\u001b[0m\u001b[0mcommand_executor\u001b[0m\u001b[0;34m.\u001b[0m\u001b[0mexecute\u001b[0m\u001b[0;34m(\u001b[0m\u001b[0mdriver_command\u001b[0m\u001b[0;34m,\u001b[0m \u001b[0mparams\u001b[0m\u001b[0;34m)\u001b[0m\u001b[0;34m\u001b[0m\u001b[0;34m\u001b[0m\u001b[0m\n\u001b[1;32m    320\u001b[0m         \u001b[0;32mif\u001b[0m \u001b[0mresponse\u001b[0m\u001b[0;34m:\u001b[0m\u001b[0;34m\u001b[0m\u001b[0;34m\u001b[0m\u001b[0m\n\u001b[0;32m--> 321\u001b[0;31m             \u001b[0mself\u001b[0m\u001b[0;34m.\u001b[0m\u001b[0merror_handler\u001b[0m\u001b[0;34m.\u001b[0m\u001b[0mcheck_response\u001b[0m\u001b[0;34m(\u001b[0m\u001b[0mresponse\u001b[0m\u001b[0;34m)\u001b[0m\u001b[0;34m\u001b[0m\u001b[0;34m\u001b[0m\u001b[0m\n\u001b[0m\u001b[1;32m    322\u001b[0m             response['value'] = self._unwrap_value(\n\u001b[1;32m    323\u001b[0m                 response.get('value', None))\n",
      "\u001b[0;32m~/anaconda3/lib/python3.7/site-packages/selenium/webdriver/remote/errorhandler.py\u001b[0m in \u001b[0;36mcheck_response\u001b[0;34m(self, response)\u001b[0m\n\u001b[1;32m    240\u001b[0m                 \u001b[0malert_text\u001b[0m \u001b[0;34m=\u001b[0m \u001b[0mvalue\u001b[0m\u001b[0;34m[\u001b[0m\u001b[0;34m'alert'\u001b[0m\u001b[0;34m]\u001b[0m\u001b[0;34m.\u001b[0m\u001b[0mget\u001b[0m\u001b[0;34m(\u001b[0m\u001b[0;34m'text'\u001b[0m\u001b[0;34m)\u001b[0m\u001b[0;34m\u001b[0m\u001b[0;34m\u001b[0m\u001b[0m\n\u001b[1;32m    241\u001b[0m             \u001b[0;32mraise\u001b[0m \u001b[0mexception_class\u001b[0m\u001b[0;34m(\u001b[0m\u001b[0mmessage\u001b[0m\u001b[0;34m,\u001b[0m \u001b[0mscreen\u001b[0m\u001b[0;34m,\u001b[0m \u001b[0mstacktrace\u001b[0m\u001b[0;34m,\u001b[0m \u001b[0malert_text\u001b[0m\u001b[0;34m)\u001b[0m\u001b[0;34m\u001b[0m\u001b[0;34m\u001b[0m\u001b[0m\n\u001b[0;32m--> 242\u001b[0;31m         \u001b[0;32mraise\u001b[0m \u001b[0mexception_class\u001b[0m\u001b[0;34m(\u001b[0m\u001b[0mmessage\u001b[0m\u001b[0;34m,\u001b[0m \u001b[0mscreen\u001b[0m\u001b[0;34m,\u001b[0m \u001b[0mstacktrace\u001b[0m\u001b[0;34m)\u001b[0m\u001b[0;34m\u001b[0m\u001b[0;34m\u001b[0m\u001b[0m\n\u001b[0m\u001b[1;32m    243\u001b[0m \u001b[0;34m\u001b[0m\u001b[0m\n\u001b[1;32m    244\u001b[0m     \u001b[0;32mdef\u001b[0m \u001b[0m_value_or_default\u001b[0m\u001b[0;34m(\u001b[0m\u001b[0mself\u001b[0m\u001b[0;34m,\u001b[0m \u001b[0mobj\u001b[0m\u001b[0;34m,\u001b[0m \u001b[0mkey\u001b[0m\u001b[0;34m,\u001b[0m \u001b[0mdefault\u001b[0m\u001b[0;34m)\u001b[0m\u001b[0;34m:\u001b[0m\u001b[0;34m\u001b[0m\u001b[0;34m\u001b[0m\u001b[0m\n",
      "\u001b[0;31mNoSuchElementException\u001b[0m: Message: no such element: Unable to locate element: {\"method\":\"css selector\",\"selector\":\"table.vip v2 > tbody > tr.prev\"}\n  (Session info: chrome=85.0.4183.83)\n"
     ]
    }
   ],
   "source": [
    "import time\n",
    "from selenium import webdriver\n",
    "driver = webdriver.Chrome('/usr/bin/chromedriver')\n",
    "driver.implicitly_wait(3)\n",
    "\n",
    "# url에 접근한다.\n",
    "driver.get('http://itempage3.auction.co.kr/DetailView.aspx?ItemNo=A526066300&frm3=V2')\n",
    "driver.find_element_by_xpath('//*[@id=\"ulVipTab\"]/ul/li[3]/a').click()\n",
    "\n",
    "a = driver.find_element_by_css_selector('table.vip v2 > tbody > tr.prev').text\n",
    "print(a)"
   ]
  },
  {
   "cell_type": "code",
   "execution_count": 159,
   "metadata": {},
   "outputs": [
    {
     "ename": "SyntaxError",
     "evalue": "invalid syntax (<ipython-input-159-af4baa987c0d>, line 10)",
     "output_type": "error",
     "traceback": [
      "\u001b[0;36m  File \u001b[0;32m\"<ipython-input-159-af4baa987c0d>\"\u001b[0;36m, line \u001b[0;32m10\u001b[0m\n\u001b[0;31m    btn = driver.find_element_by_xpath(\"//*[@id=\"si248193294\"]\")\u001b[0m\n\u001b[0m                                                           ^\u001b[0m\n\u001b[0;31mSyntaxError\u001b[0m\u001b[0;31m:\u001b[0m invalid syntax\n"
     ]
    }
   ],
   "source": [
    "import time\n",
    "from selenium import webdriver\n",
    "driver = webdriver.Chrome('/usr/bin/chromedriver')\n",
    "driver.implicitly_wait(3)\n",
    "\n",
    "# url에 접근한다.\n",
    "driver.get('http://itempage3.auction.co.kr/DetailView.aspx?ItemNo=A526066300&frm3=V2')\n",
    "driver.find_element_by_xpath('//*[@id=\"ulVipTab\"]/ul/li[3]/a').click()\n",
    "\n",
    "btn = driver.find_element_by_xpath(\"//*[@id=\"si248193294\"]\")\n",
    "btn.get_attribute('style')\n",
    "\n",
    "#aa = driver.execute_script(\"arguments[0].style.display = 'block'; return arguments[0];\", aa)\n",
    "\n",
    "#print(aa.value_of_css_property(\"display\"))\n",
    "\n",
    "#now you can set value using send_keys\n",
    "#password.send_keys(\"your value\");"
   ]
  },
  {
   "cell_type": "code",
   "execution_count": null,
   "metadata": {},
   "outputs": [],
   "source": []
  }
 ],
 "metadata": {
  "kernelspec": {
   "display_name": "Python 3",
   "language": "python",
   "name": "python3"
  },
  "language_info": {
   "codemirror_mode": {
    "name": "ipython",
    "version": 3
   },
   "file_extension": ".py",
   "mimetype": "text/x-python",
   "name": "python",
   "nbconvert_exporter": "python",
   "pygments_lexer": "ipython3",
   "version": "3.7.6"
  }
 },
 "nbformat": 4,
 "nbformat_minor": 4
}
